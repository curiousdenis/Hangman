{
 "cells": [
  {
   "cell_type": "code",
   "execution_count": 1,
   "id": "c04a40b3",
   "metadata": {},
   "outputs": [],
   "source": [
    "from rich.console import Console\n",
    "import random\n",
    "from os import system, name"
   ]
  },
  {
   "cell_type": "code",
   "execution_count": 2,
   "id": "577fffb7",
   "metadata": {},
   "outputs": [],
   "source": [
    "console = Console()\n",
    "def print_color(text, style = \"green4\"):\n",
    "    return console.print(text, style = style)"
   ]
  },
  {
   "cell_type": "code",
   "execution_count": 3,
   "id": "7274a7ce",
   "metadata": {},
   "outputs": [],
   "source": [
    "def guess_word():\n",
    "    word_list = [\"banana\", \"apple\", \"qiwi\", \"pineapple\"]\n",
    "    return random.choice(word_list)"
   ]
  },
  {
   "cell_type": "code",
   "execution_count": 4,
   "id": "6c0897bf",
   "metadata": {},
   "outputs": [],
   "source": [
    "def getGuess(alreadyGussed):\n",
    "    while True:\n",
    "        letter_guess = str(input(\"Guess a letter: \"))\n",
    "        if len(letter_guess) != 1:\n",
    "            print(\"Youe enter not A letter\")\n",
    "        elif letter_guess not in 'abcdefghijklmnopqrstuvwxyz':\n",
    "            print(\"You enter not an English letter\")\n",
    "        elif len(letter_guess) == '':\n",
    "            print(\"You enter empty value\")\n",
    "        elif letter_guess in alreadyGussed:\n",
    "            print(\"You already guessed this letter\")\n",
    "        else:\n",
    "            print_color(\"Great!, your letter is: {}\".format(letter_guess))\n",
    "            return letter_guess\n",
    "    "
   ]
  },
  {
   "cell_type": "code",
   "execution_count": 5,
   "id": "411aab37",
   "metadata": {},
   "outputs": [],
   "source": [
    "def play_again():\n",
    "    return str(input(\"Do you want to play again? Press enter if not, enter something if yes: \")).lower()"
   ]
  },
  {
   "cell_type": "code",
   "execution_count": 6,
   "id": "732c16be",
   "metadata": {},
   "outputs": [],
   "source": [
    "def display(word, correctLetters):\n",
    "    blocks = '_' * len(word)\n",
    "    list_blocks = [x for x in blocks]\n",
    "    for index, letter in enumerate(word):\n",
    "        if letter in correctLetters:\n",
    "            list_blocks[index] = letter\n",
    "    return ''.join(list_blocks)\n",
    "             "
   ]
  },
  {
   "cell_type": "code",
   "execution_count": 7,
   "id": "cc5bf2a7",
   "metadata": {},
   "outputs": [],
   "source": [
    "def clear():\n",
    "     if name == 'nt':\n",
    "        _ = system('cls')"
   ]
  },
  {
   "cell_type": "code",
   "execution_count": 9,
   "id": "b73ad10a",
   "metadata": {},
   "outputs": [],
   "source": [
    "def main():\n",
    "    word = guess_word()\n",
    "    correctLetters = ''\n",
    "    wrongLetters = ''\n",
    "    playagain = False\n",
    "    count = 0\n",
    "    while True:\n",
    "            alreadyGussed = correctLetters + wrongLetters\n",
    "            guess = getGuess(alreadyGussed)\n",
    "            if guess in word:\n",
    "                correctLetters += guess \n",
    "                print(display(word, correctLetters))\n",
    "                foundAllLetters = True\n",
    "                for index in range(len(word)):\n",
    "                    if word[index] not in correctLetters:\n",
    "                        foundAllLetters = False\n",
    "                        break \n",
    "                if foundAllLetters:\n",
    "                    print_color(\"You found all leters to build this word\", style = 'red')\n",
    "                    playagain = True\n",
    "            else:\n",
    "                count += 1\n",
    "                print(\"You attempted {} times, keep in mind that maximum is 6\".format(count))\n",
    "                wrongLetters += guess\n",
    "                if len(wrongLetters) == 6:\n",
    "                    print_color(\"You exceeded the number of attempts\", style = 'red')\n",
    "                    playagain = True\n",
    "                    \n",
    "                    \n",
    "            if playagain:\n",
    "                clear()\n",
    "                if play_again():\n",
    "                    count = 0\n",
    "                    word = guess_word()\n",
    "                    correctLetters = ''\n",
    "                    wrongLetters = ''\n",
    "                    playagain = False\n",
    "                else:\n",
    "                    print_color(\"Game is over\", style = 'red')\n",
    "                    break"
   ]
  },
  {
   "cell_type": "code",
   "execution_count": 10,
   "id": "681ed2fb",
   "metadata": {},
   "outputs": [
    {
     "name": "stdout",
     "output_type": "stream",
     "text": [
      "Guess a letter: a\n"
     ]
    },
    {
     "data": {
      "text/html": [
       "<pre style=\"white-space:pre;overflow-x:auto;line-height:normal;font-family:Menlo,'DejaVu Sans Mono',consolas,'Courier New',monospace\"><span style=\"color: #008700; text-decoration-color: #008700\">Great!, your letter is: a</span>\n",
       "</pre>\n"
      ],
      "text/plain": [
       "\u001b[38;5;28mGreat!, your letter is: a\u001b[0m\n"
      ]
     },
     "metadata": {},
     "output_type": "display_data"
    },
    {
     "name": "stdout",
     "output_type": "stream",
     "text": [
      "a____\n",
      "Guess a letter: p\n"
     ]
    },
    {
     "data": {
      "text/html": [
       "<pre style=\"white-space:pre;overflow-x:auto;line-height:normal;font-family:Menlo,'DejaVu Sans Mono',consolas,'Courier New',monospace\"><span style=\"color: #008700; text-decoration-color: #008700\">Great!, your letter is: p</span>\n",
       "</pre>\n"
      ],
      "text/plain": [
       "\u001b[38;5;28mGreat!, your letter is: p\u001b[0m\n"
      ]
     },
     "metadata": {},
     "output_type": "display_data"
    },
    {
     "name": "stdout",
     "output_type": "stream",
     "text": [
      "app__\n",
      "Guess a letter: l\n"
     ]
    },
    {
     "data": {
      "text/html": [
       "<pre style=\"white-space:pre;overflow-x:auto;line-height:normal;font-family:Menlo,'DejaVu Sans Mono',consolas,'Courier New',monospace\"><span style=\"color: #008700; text-decoration-color: #008700\">Great!, your letter is: l</span>\n",
       "</pre>\n"
      ],
      "text/plain": [
       "\u001b[38;5;28mGreat!, your letter is: l\u001b[0m\n"
      ]
     },
     "metadata": {},
     "output_type": "display_data"
    },
    {
     "name": "stdout",
     "output_type": "stream",
     "text": [
      "appl_\n",
      "Guess a letter: e\n"
     ]
    },
    {
     "data": {
      "text/html": [
       "<pre style=\"white-space:pre;overflow-x:auto;line-height:normal;font-family:Menlo,'DejaVu Sans Mono',consolas,'Courier New',monospace\"><span style=\"color: #008700; text-decoration-color: #008700\">Great!, your letter is: e</span>\n",
       "</pre>\n"
      ],
      "text/plain": [
       "\u001b[38;5;28mGreat!, your letter is: e\u001b[0m\n"
      ]
     },
     "metadata": {},
     "output_type": "display_data"
    },
    {
     "name": "stdout",
     "output_type": "stream",
     "text": [
      "apple\n"
     ]
    },
    {
     "data": {
      "text/html": [
       "<pre style=\"white-space:pre;overflow-x:auto;line-height:normal;font-family:Menlo,'DejaVu Sans Mono',consolas,'Courier New',monospace\"><span style=\"color: #800000; text-decoration-color: #800000\">You found all leters to build this word</span>\n",
       "</pre>\n"
      ],
      "text/plain": [
       "\u001b[31mYou found all leters to build this word\u001b[0m\n"
      ]
     },
     "metadata": {},
     "output_type": "display_data"
    },
    {
     "name": "stdout",
     "output_type": "stream",
     "text": [
      "Do you want to play again? Press enter if not, enter something if yes: \n"
     ]
    },
    {
     "data": {
      "text/html": [
       "<pre style=\"white-space:pre;overflow-x:auto;line-height:normal;font-family:Menlo,'DejaVu Sans Mono',consolas,'Courier New',monospace\"><span style=\"color: #800000; text-decoration-color: #800000\">Game is over</span>\n",
       "</pre>\n"
      ],
      "text/plain": [
       "\u001b[31mGame is over\u001b[0m\n"
      ]
     },
     "metadata": {},
     "output_type": "display_data"
    }
   ],
   "source": [
    "main()"
   ]
  }
 ],
 "metadata": {
  "kernelspec": {
   "display_name": "Python 3 (ipykernel)",
   "language": "python",
   "name": "python3"
  },
  "language_info": {
   "codemirror_mode": {
    "name": "ipython",
    "version": 3
   },
   "file_extension": ".py",
   "mimetype": "text/x-python",
   "name": "python",
   "nbconvert_exporter": "python",
   "pygments_lexer": "ipython3",
   "version": "3.9.7"
  }
 },
 "nbformat": 4,
 "nbformat_minor": 5
}
